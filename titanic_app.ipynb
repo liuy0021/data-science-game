{
 "cells": [
  {
   "cell_type": "code",
   "execution_count": 2,
   "metadata": {},
   "outputs": [],
   "source": [
    "import streamlit as st\n",
    "import pickle\n",
    "import pandas as pd\n",
    "filename = 'xgb_titanic_model.sav'\n",
    "load_model = pickle.load(open(filename, 'rb'))"
   ]
  },
  {
   "cell_type": "code",
   "execution_count": 3,
   "metadata": {},
   "outputs": [],
   "source": [
    "def titanic_pipe(pclass,title,sibsp,parch):\n",
    "    \n",
    "    if title=='Mrs':\n",
    "        title_num=1\n",
    "    elif title=='Miss':\n",
    "        title_num=2\n",
    "    elif title=='Master':\n",
    "        title_num=3\n",
    "    elif title=='Mr':\n",
    "        title_num=4\n",
    "    else:\n",
    "        title_num=-999\n",
    "    \n",
    "    if sibsp=='Yes':\n",
    "        sibsp_num=1\n",
    "    else:\n",
    "        sibsp_num=2\n",
    "    \n",
    "    if parch=='Yes':\n",
    "        parch_num=1\n",
    "    else:\n",
    "        parch_num=2\n",
    "        \n",
    "    return pclass,title_num,sibsp_num,parch_num\n",
    "\n",
    "def titanic_pred(model_titanic,pclass,title_num,sibsp_num,parch_num):\n",
    "    df=pd.DataFrame()\n",
    "    df['pclass']=[pclass]\n",
    "    df['title_num']=[title_num]\n",
    "    df['sibsp_num']=[sibsp_num]\n",
    "    df['parch_num']=[parch_num]\n",
    "    \n",
    "    pred=model_titanic.predict_proba(df)[:,1]\n",
    "    \n",
    "    if pred<=0.131:\n",
    "        score=5\n",
    "    elif pred>0.131 and pred<=0.30:\n",
    "        score=4\n",
    "    elif pred>0.30 and pred<=0.55:\n",
    "        score=3\n",
    "    elif pred>0.55 and pred<=0.91:\n",
    "        score=2\n",
    "    else:\n",
    "        score=1\n",
    "    \n",
    "    return score, pred\n"
   ]
  },
  {
   "cell_type": "code",
   "execution_count": null,
   "metadata": {},
   "outputs": [],
   "source": [
    "def main():\n",
    "    st.title(\"Titanic Survival Score Prediction\")\n",
    "\n",
    "    pclass = st.selectbox(\"Class of Passenpger\", [1, 2, 3])\n",
    "    title = st.selectbox(\"Name Title of Passenger\", [\"Mr\", \"Miss\", \"Mrs\",\"Master\"])\n",
    "    sibsp = st.selectbox(\"Passenger has at least one spouse/sibling\", [\"Yes\",\"No\"])\n",
    "    parch = st.selectbox(\"Passenger has at least one child/parent\", [\"Yes\",\"No\"])\n",
    "\n",
    "    x1,x2,x3,x4=titanic_pipe(pclass,title,sibsp,parch)\n",
    "    score=titanic_pred(load_model,x1,x2,x3,x4)[0]\n",
    "\n",
    "\n",
    "    st.subheader(\"Score Result\")\n",
    "    st.write(score)\n",
    "\n",
    "if __name__ == \"__main__\":\n",
    "    main()"
   ]
  }
 ],
 "metadata": {
  "kernelspec": {
   "display_name": "Python 3",
   "language": "python",
   "name": "python3"
  },
  "language_info": {
   "codemirror_mode": {
    "name": "ipython",
    "version": 3
   },
   "file_extension": ".py",
   "mimetype": "text/x-python",
   "name": "python",
   "nbconvert_exporter": "python",
   "pygments_lexer": "ipython3",
   "version": "3.7.3"
  }
 },
 "nbformat": 4,
 "nbformat_minor": 2
}
